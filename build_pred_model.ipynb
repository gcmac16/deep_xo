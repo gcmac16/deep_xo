{
 "cells": [
  {
   "cell_type": "code",
   "execution_count": 8,
   "metadata": {
    "collapsed": true
   },
   "outputs": [],
   "source": [
    "from tic_tac_toe import UltimateBoard, ClassicBoard\n",
    "import pandas as pd\n",
    "import numpy as np\n",
    "\n",
    "import seaborn as sns\n",
    "from matplotlib import pyplot as plt\n",
    "plt.style.use('ggplot')\n",
    "%matplotlib inline\n",
    "\n",
    "colors=['#547fc4']\n",
    "\n",
    "import keras\n",
    "\n",
    "from multiprocessing import Pool\n",
    "from time import time"
   ]
  },
  {
   "cell_type": "code",
   "execution_count": 9,
   "metadata": {
    "collapsed": true
   },
   "outputs": [],
   "source": [
    "game = UltimateBoard()"
   ]
  },
  {
   "cell_type": "code",
   "execution_count": 10,
   "metadata": {
    "collapsed": true
   },
   "outputs": [],
   "source": [
    "def sim_game(i):\n",
    "    x_turn = i % 2 == 0\n",
    "    board = UltimateBoard(x_turn)\n",
    "    turns = 0\n",
    "    \n",
    "    np.random.seed()\n",
    "    \n",
    "    while not board.game_over:\n",
    "\n",
    "            lab = 'X' if x_turn else 'O'\n",
    "            brd = np.random.choice(list(board.active_boards), size=1)[0]\n",
    "            pos = np.random.choice(list(board.boards[brd].remaining_squares), size=1)[0]\n",
    "\n",
    "            board.play(brd, pos, lab)\n",
    "\n",
    "            x_turn = not x_turn\n",
    "            turns += 1\n",
    "    \n",
    "    df = pd.DataFrame(board.get_history())\n",
    "    df['game'] = i\n",
    "    return (df, board)"
   ]
  },
  {
   "cell_type": "code",
   "execution_count": 11,
   "metadata": {
    "collapsed": true
   },
   "outputs": [],
   "source": [
    "n_games = 10000"
   ]
  },
  {
   "cell_type": "code",
   "execution_count": 12,
   "metadata": {
    "scrolled": true
   },
   "outputs": [
    {
     "name": "stdout",
     "output_type": "stream",
     "text": [
      "73.54706478118896\n"
     ]
    }
   ],
   "source": [
    "tic = time()\n",
    "p = Pool(4)\n",
    "res = p.map(sim_game, range(n_games))\n",
    "print(time() - tic)"
   ]
  },
  {
   "cell_type": "code",
   "execution_count": null,
   "metadata": {
    "collapsed": true
   },
   "outputs": [],
   "source": [
    "boards = [r[1] for r in res]\n",
    "dfs = [r[0] for r in res]"
   ]
  },
  {
   "cell_type": "code",
   "execution_count": null,
   "metadata": {
    "collapsed": true
   },
   "outputs": [],
   "source": [
    "full_res = pd.concat(dfs, sort=True)"
   ]
  },
  {
   "cell_type": "code",
   "execution_count": null,
   "metadata": {
    "collapsed": true
   },
   "outputs": [],
   "source": [
    "winner_map = {'Cat':0, 'X':1, 'O':2}\n",
    "full_res['winner'] = full_res[90].map(winner_map)\n",
    "full_res['x_wins'] = (full_res[90] == 'X').astype(int)"
   ]
  },
  {
   "cell_type": "code",
   "execution_count": null,
   "metadata": {
    "collapsed": true
   },
   "outputs": [],
   "source": [
    "from sklearn.model_selection import train_test_split\n",
    "train_games, val_test_games = train_test_split(list(range(n_games)), test_size=.25)\n",
    "val_games, test_games = train_test_split(val_test_games, test_size=.5)"
   ]
  },
  {
   "cell_type": "code",
   "execution_count": null,
   "metadata": {
    "collapsed": true
   },
   "outputs": [],
   "source": [
    "train = full_res[full_res['game'].isin(train_games)].copy().reset_index(drop=True)\n",
    "val = full_res[full_res['game'].isin(val_games)].copy().reset_index(drop=True)\n",
    "test = full_res[full_res['game'].isin(test_games)].copy().reset_index(drop=True)"
   ]
  },
  {
   "cell_type": "code",
   "execution_count": null,
   "metadata": {
    "collapsed": true
   },
   "outputs": [],
   "source": [
    "from keras.models import Sequential\n",
    "from keras.layers import Dense, Activation, Conv2D, ReLU, Dropout\n",
    "from keras.layers import Flatten, MaxPooling2D"
   ]
  },
  {
   "cell_type": "code",
   "execution_count": null,
   "metadata": {
    "collapsed": true
   },
   "outputs": [],
   "source": [
    "train_X = train.values[:,:81]\n",
    "train_X = train_X.reshape((train.shape[0], 9, 9, 1))\n",
    "\n",
    "train_y = np.array(train['winner'].values)\n",
    "# train_y_ohe = np.zeros((train_y.size, train_y.max()+1))\n",
    "\n",
    "val_X = val.values[:,:81].reshape((val.shape[0], 9, 9, 1))\n",
    "val_y = np.array(val['winner'].values)\n",
    "# val_y_ohe = np.zeros((val_y.size, val_y.max()+1))"
   ]
  },
  {
   "cell_type": "code",
   "execution_count": null,
   "metadata": {
    "collapsed": true
   },
   "outputs": [],
   "source": [
    "model = Sequential([\n",
    "    Conv2D(128, kernel_size=(3,3), input_shape=(9,9,1), activation='relu'),\n",
    "    Dropout(.5),\n",
    "    Conv2D(64, kernel_size=(3,3), activation='relu'),\n",
    "    Dropout(.5),\n",
    "    MaxPooling2D(pool_size=(2, 2), strides=(2, 2)),\n",
    "#     Activation('relu'),\n",
    "    Flatten(),\n",
    "    Dense(15),\n",
    "    Activation('relu'),\n",
    "    Dense(3),\n",
    "    Activation('softmax')\n",
    "])"
   ]
  },
  {
   "cell_type": "code",
   "execution_count": null,
   "metadata": {
    "collapsed": true
   },
   "outputs": [],
   "source": [
    "model.compile(optimizer='adam',loss='sparse_categorical_crossentropy')"
   ]
  },
  {
   "cell_type": "code",
   "execution_count": null,
   "metadata": {
    "collapsed": true
   },
   "outputs": [],
   "source": [
    "model.fit(train_X, train_y, batch_size=64, \n",
    "          epochs=5, validation_data=(val_X, val_y))"
   ]
  },
  {
   "cell_type": "code",
   "execution_count": null,
   "metadata": {
    "collapsed": true,
    "scrolled": true
   },
   "outputs": [],
   "source": [
    "preds = model.predict(val_X)\n",
    "preds_cat = np.argmax(preds, axis=1)"
   ]
  },
  {
   "cell_type": "code",
   "execution_count": null,
   "metadata": {
    "collapsed": true
   },
   "outputs": [],
   "source": [
    "sums = val.values[:,:81].sum(axis=1)\n",
    "sums = sums > 30"
   ]
  },
  {
   "cell_type": "code",
   "execution_count": null,
   "metadata": {
    "collapsed": true
   },
   "outputs": [],
   "source": [
    "(preds_cat== val_y).mean()"
   ]
  },
  {
   "cell_type": "code",
   "execution_count": null,
   "metadata": {
    "collapsed": true
   },
   "outputs": [],
   "source": [
    "preds_cat"
   ]
  },
  {
   "cell_type": "code",
   "execution_count": null,
   "metadata": {
    "collapsed": true
   },
   "outputs": [],
   "source": []
  }
 ],
 "metadata": {
  "kernelspec": {
   "display_name": "xo_env",
   "language": "python",
   "name": "xo_env"
  },
  "language_info": {
   "codemirror_mode": {
    "name": "ipython",
    "version": 3
   },
   "file_extension": ".py",
   "mimetype": "text/x-python",
   "name": "python",
   "nbconvert_exporter": "python",
   "pygments_lexer": "ipython3",
   "version": "3.6.6"
  }
 },
 "nbformat": 4,
 "nbformat_minor": 2
}
