{
 "cells": [
  {
   "cell_type": "code",
   "execution_count": null,
   "metadata": {},
   "outputs": [],
   "source": [
    "from tic_tac_toe import UltimateBoard, ClassicBoard\n",
    "import pandas as pd\n",
    "import numpy as np\n",
    "\n",
    "import seaborn as sns\n",
    "from matplotlib import pyplot as plt\n",
    "plt.style.use('ggplot')\n",
    "%pylab inline\n",
    "\n",
    "colors=['#547fc4']"
   ]
  },
  {
   "cell_type": "code",
   "execution_count": null,
   "metadata": {
    "collapsed": true
   },
   "outputs": [],
   "source": [
    "class UltimateBoard():\n",
    "    \n",
    "    def __init__(self, x_turn=True):\n",
    "        if not isinstance(x_turn, bool):\n",
    "            raise ValueError(\"x_turn must be boolean\")\n",
    "        self.boards = {i:ClassicBoard(i) for i in range(9)}\n",
    "        self.meta_board = ClassicBoard('meta_board')\n",
    "        self.game_over = False\n",
    "        self.won = False\n",
    "        self.active_boards = set(range(9))\n",
    "        self.x_turn = x_turn \n",
    "        self.history = []\n",
    "        self.meta_history = []\n",
    "        \n",
    "    def play(self, board, pos, label):\n",
    "        if board not in self.active_boards:\n",
    "            raise ValueError(\"That board is not in play\")\n",
    "            \n",
    "        if isinstance(pos, tuple):\n",
    "            pos = 3*pos[0] + pos[1]\n",
    "            \n",
    "        if ((self.x_turn and label != 'X') \n",
    "            or (not self.x_turn and label != 'O')):\n",
    "            raise ValueError(\"It is the other player's turn\")\n",
    "            \n",
    "        self.boards[board].play(pos, label)\n",
    "        self._update_state(board, pos, label)\n",
    "        \n",
    "    def _update_state(self, board, pos, label):\n",
    "        '''\n",
    "        Update state assuming successful play 00\n",
    "        '''\n",
    "        \n",
    "        b = self.boards[board]\n",
    "        self.history.append((board, pos, {'X':1, 'O':2}[label]))\n",
    "        \n",
    "        if b.game_over:\n",
    "            if b.won:\n",
    "                self.meta_board.play(board, label)\n",
    "            \n",
    "            if self.boards[pos].game_over:\n",
    "                self.active_boards = {i for i in range(9) \\\n",
    "                                      if not self.boards[i].game_over}\n",
    "            else:\n",
    "                self.active_boards = {pos}\n",
    "            \n",
    "        else:\n",
    "            if self.boards[pos].game_over:\n",
    "                self.active_boards = {i for i in range(9) \\\n",
    "                                      if not self.boards[i].game_over}\n",
    "            else:\n",
    "                self.active_boards = {pos}\n",
    "                \n",
    "        if len(self.active_boards) == 0:\n",
    "            self.winner = 'Cat'\n",
    "            self.game_over = True\n",
    "   \n",
    "        if self.meta_board.game_over:\n",
    "            if self.meta_board.won:\n",
    "                self.winner = label\n",
    "\n",
    "            else:\n",
    "                self.winner = 'Cat'\n",
    "                \n",
    "            self.game_over = True\n",
    "            self.won = True\n",
    "        \n",
    "        self.meta_history.append(self.meta_board.board.flatten())\n",
    "        self._flip_turn()\n",
    "        \n",
    "    def get_history(self):\n",
    "        big_board = np.zeros(81)\n",
    "        meta_board = np.zeros(9)\n",
    "        \n",
    "        final_res = []\n",
    "        \n",
    "        # mv is list of tuples (board (int), pos (int), label (int))\n",
    "        for i, mv in enumerate(self.history):\n",
    "            big_board[mv[0]*9 + mv[1]] = mv[2]\n",
    "            app_list = list(big_board) + list(self.meta_history[i])\n",
    "            if self.won:\n",
    "                app_list.append(self.winner)\n",
    "            final_res.append(app_list)\n",
    "            \n",
    "        return final_res\n",
    "    \n",
    "    def undo_move(self):\n",
    "        if len(self.history) == 0:\n",
    "            raise ValueError(\"No moves to undo\")\n",
    "        board, cell, player = self.history[-1]\n",
    "        self.boards[board].undo_move()\n",
    "        self.history = self.history[:-1]\n",
    "        last_valid_move = self.history[-1]\n",
    "        \n",
    "        lv_board, lv_cell, lv_player = last_valid_move\n",
    "        self.x_turn = True if lv_player == 2 else False\n",
    "        if self.boards[lv_cell].game_over:\n",
    "            self.active_boards = {i for i in range(9) \\\n",
    "                                  if not self.boards[i].game_over}\n",
    "        else:\n",
    "            self.active_boards = {lv_cell}\n",
    "    \n",
    "    def _flip_turn(self):\n",
    "        self.x_turn = not self.x_turn\n",
    "    \n",
    "    def __str__(self):\n",
    "        board_strs = [self.boards[i].__str__() for i in range(9)]\n",
    "        \n",
    "        all_rows = []\n",
    "        for i in range(0,9,3):\n",
    "            row = board_strs[i:i+3]\n",
    "            top_rows = ['|'.join(r.split('\\n')[i] for r in row) \\\n",
    "                        for i in range(3)]\n",
    "            all_rows.append('\\n'.join(top_rows))\n",
    "        \n",
    "        return ('\\n' + '-'*17 + '\\n').join(all_rows)"
   ]
  },
  {
   "cell_type": "code",
   "execution_count": null,
   "metadata": {
    "collapsed": true
   },
   "outputs": [],
   "source": [
    "game = UltimateBoard()"
   ]
  },
  {
   "cell_type": "code",
   "execution_count": null,
   "metadata": {
    "collapsed": true
   },
   "outputs": [],
   "source": [
    "game.play(4, 0, 'X')\n",
    "game.play(0, 5, 'O')\n",
    "game.play(5, 3, 'X')\n",
    "game.play(3, 8, 'O')"
   ]
  },
  {
   "cell_type": "code",
   "execution_count": null,
   "metadata": {},
   "outputs": [],
   "source": [
    "print(game)"
   ]
  },
  {
   "cell_type": "code",
   "execution_count": null,
   "metadata": {
    "collapsed": true
   },
   "outputs": [],
   "source": [
    "import pickle\n",
    "model = pickle.load(open('gbm_x_wins','rb'))"
   ]
  },
  {
   "cell_type": "code",
   "execution_count": null,
   "metadata": {},
   "outputs": [],
   "source": [
    "model.predict_proba(np.array(game.get_history()[-1]).reshape(1,-1))"
   ]
  },
  {
   "cell_type": "code",
   "execution_count": null,
   "metadata": {
    "scrolled": true
   },
   "outputs": [],
   "source": [
    "for i in range(0,81,9):\n",
    "    print(np.array(h1[i:i+9]).reshape((3,3)))"
   ]
  },
  {
   "cell_type": "code",
   "execution_count": null,
   "metadata": {
    "collapsed": true
   },
   "outputs": [],
   "source": [
    "h1 = game.get_history()[-1]\n",
    "# game.undo_move()\n",
    "# h2 = game."
   ]
  },
  {
   "cell_type": "code",
   "execution_count": null,
   "metadata": {
    "collapsed": true
   },
   "outputs": [],
   "source": [
    "game.undo_move()"
   ]
  },
  {
   "cell_type": "code",
   "execution_count": null,
   "metadata": {},
   "outputs": [],
   "source": [
    "print(game)"
   ]
  },
  {
   "cell_type": "code",
   "execution_count": null,
   "metadata": {
    "collapsed": true
   },
   "outputs": [],
   "source": [
    "game.play(3, 8, 'O')"
   ]
  },
  {
   "cell_type": "code",
   "execution_count": null,
   "metadata": {},
   "outputs": [],
   "source": [
    "print(game)"
   ]
  },
  {
   "cell_type": "code",
   "execution_count": null,
   "metadata": {
    "collapsed": true
   },
   "outputs": [],
   "source": [
    "new_game = UltimateBoard(True)\n",
    "\n",
    "for board, square, player in game_hist:\n",
    "    new_game.play(board, square, 'X' if player == 1 else 'O')"
   ]
  },
  {
   "cell_type": "code",
   "execution_count": null,
   "metadata": {},
   "outputs": [],
   "source": [
    "model.predict_proba(np.array(new_game.get_history()[-1]).reshape(1,-1))"
   ]
  },
  {
   "cell_type": "code",
   "execution_count": null,
   "metadata": {},
   "outputs": [],
   "source": [
    "new_game.get_history()[-1][81:]"
   ]
  },
  {
   "cell_type": "code",
   "execution_count": null,
   "metadata": {},
   "outputs": [],
   "source": [
    "pd.DataFrame(new_game.get_history())"
   ]
  },
  {
   "cell_type": "code",
   "execution_count": null,
   "metadata": {},
   "outputs": [],
   "source": [
    "new_game.x_turn"
   ]
  },
  {
   "cell_type": "code",
   "execution_count": null,
   "metadata": {},
   "outputs": [],
   "source": [
    "print(new_game)"
   ]
  },
  {
   "cell_type": "code",
   "execution_count": null,
   "metadata": {
    "collapsed": true
   },
   "outputs": [],
   "source": [
    "game_hist = [(4, 0, 1), (0, 5, 2), (5, 3, 1), \n",
    "             (3, 8, 2), (8, 6, 1), (6, 4, 2), \n",
    "             (4, 4, 1), (4, 6, 2), (6, 2, 1), \n",
    "             (2, 4, 2), (4, 8, 1), (8, 3, 2), \n",
    "             (3, 3, 1), (3, 1, 2), (1, 2, 1), \n",
    "             (2, 0, 2), (0, 6, 1), (6, 3, 2), \n",
    "             (3, 0, 1), (0, 1, 2), (1, 1, 1), \n",
    "             (1, 7, 2), (7, 8, 1)]"
   ]
  },
  {
   "cell_type": "code",
   "execution_count": null,
   "metadata": {
    "collapsed": true
   },
   "outputs": [],
   "source": [
    "def sim_game(i):\n",
    "    x_turn = i % 2 == 0\n",
    "    board = UltimateBoard(x_turn)\n",
    "    turns = 0\n",
    "    \n",
    "    while not board.game_over:\n",
    "\n",
    "            lab = 'X' if x_turn else 'O'\n",
    "            brd = np.random.choice(list(board.active_boards), size=1)[0]\n",
    "            pos = np.random.choice(list(board.boards[brd].remaining_squares), size=1)[0]\n",
    "\n",
    "            board.play(brd, pos, lab)\n",
    "\n",
    "            x_turn = not x_turn\n",
    "            turns += 1\n",
    "    \n",
    "#     print(board,'\\n')\n",
    "    df = pd.DataFrame(board.get_history())\n",
    "    df['game'] = i\n",
    "    return df"
   ]
  },
  {
   "cell_type": "code",
   "execution_count": null,
   "metadata": {
    "collapsed": true
   },
   "outputs": [],
   "source": [
    "from multiprocessing import Pool\n",
    "from time import time"
   ]
  },
  {
   "cell_type": "code",
   "execution_count": null,
   "metadata": {
    "collapsed": true,
    "scrolled": true
   },
   "outputs": [],
   "source": [
    "tic = time()\n",
    "p = Pool(4)\n",
    "res = p.map(sim_game, range(10000))\n",
    "print(time() - tic)"
   ]
  },
  {
   "cell_type": "code",
   "execution_count": null,
   "metadata": {
    "collapsed": true
   },
   "outputs": [],
   "source": [
    "full_res = pd.concat(res)"
   ]
  },
  {
   "cell_type": "code",
   "execution_count": null,
   "metadata": {
    "collapsed": true
   },
   "outputs": [],
   "source": [
    "full_res.head()"
   ]
  },
  {
   "cell_type": "code",
   "execution_count": null,
   "metadata": {
    "collapsed": true
   },
   "outputs": [],
   "source": [
    "winner_map = {'Cat':0, 'X':1, 'O':2}\n",
    "full_res['winner'] = full_res[90].map(winner_map)\n",
    "full_res['x_wins'] = (full_res[90] == 'X').astype(int)"
   ]
  },
  {
   "cell_type": "code",
   "execution_count": null,
   "metadata": {
    "collapsed": true
   },
   "outputs": [],
   "source": [
    "full_res_xo = full_res[full_res[90].isin(['O','X'])]"
   ]
  },
  {
   "cell_type": "code",
   "execution_count": null,
   "metadata": {
    "collapsed": true
   },
   "outputs": [],
   "source": [
    "train_games, val_test_games = train_test_split(list(range(10000)), test_size=.25)\n",
    "val_games, test_games = train_test_split(val_test_games, test_size=.5)"
   ]
  },
  {
   "cell_type": "code",
   "execution_count": null,
   "metadata": {
    "collapsed": true
   },
   "outputs": [],
   "source": [
    "len(train_games).intersectiolen(val_games) + len(test_games)"
   ]
  },
  {
   "cell_type": "code",
   "execution_count": null,
   "metadata": {
    "collapsed": true
   },
   "outputs": [],
   "source": [
    "train = full_res_xo[full_res_xo['game'].isin(train_games)].copy().reset_index(drop=True)\n",
    "val = full_res_xo[full_res_xo['game'].isin(val_games)].copy().reset_index(drop=True)\n",
    "test = full_res_xo[full_res_xo['game'].isin(test_games)].copy().reset_index(drop=True)"
   ]
  },
  {
   "cell_type": "code",
   "execution_count": null,
   "metadata": {
    "collapsed": true,
    "scrolled": true
   },
   "outputs": [],
   "source": [
    "gbm = GradientBoostingClassifier(verbose=3, n_estimators=25, subsample=.33, max_depth=10)\n",
    "gbm.fit(train[list(range(90))], train['x_wins'])"
   ]
  },
  {
   "cell_type": "code",
   "execution_count": null,
   "metadata": {
    "collapsed": true
   },
   "outputs": [],
   "source": [
    "set(train['game']).intersection(set(val['game']))"
   ]
  },
  {
   "cell_type": "code",
   "execution_count": null,
   "metadata": {
    "collapsed": true
   },
   "outputs": [],
   "source": [
    "train, val_test = [df.copy() for df in train_test_split(full_res_xo, test_size=.3, random_state=42)]\n",
    "val, test = [df.copy() for df in train_test_split(val_test, test_size=.5, random_state=21)]"
   ]
  },
  {
   "cell_type": "code",
   "execution_count": null,
   "metadata": {
    "collapsed": true
   },
   "outputs": [],
   "source": [
    "train.shape, val.shape, test.shape"
   ]
  },
  {
   "cell_type": "code",
   "execution_count": null,
   "metadata": {
    "collapsed": true
   },
   "outputs": [],
   "source": [
    "val['pred_x'] = gbm.predict_proba(val[list(range(90))])[:,1]\n",
    "train['pred_x'] = gbm.predict_proba(train[list(range(90))])[:,1]"
   ]
  },
  {
   "cell_type": "code",
   "execution_count": null,
   "metadata": {
    "collapsed": true,
    "scrolled": true
   },
   "outputs": [],
   "source": [
    "roc_auc_score(val['x_wins'], val['pred_x']), roc_auc_score(train['x_wins'], train['pred_x'])"
   ]
  },
  {
   "cell_type": "code",
   "execution_count": null,
   "metadata": {
    "collapsed": true,
    "scrolled": true
   },
   "outputs": [],
   "source": [
    "roc_auc_score(val['x_wins'], val['pred_x']), roc_auc_score(train['x_wins'], train['pred_x'])"
   ]
  },
  {
   "cell_type": "code",
   "execution_count": null,
   "metadata": {
    "collapsed": true
   },
   "outputs": [],
   "source": [
    "import pickle\n",
    "pickle.dump(gbm, open('gbm_x_wins','wb'))"
   ]
  },
  {
   "cell_type": "code",
   "execution_count": null,
   "metadata": {
    "collapsed": true
   },
   "outputs": [],
   "source": [
    "from sklearn.ensemble import GradientBoostingClassifier\n",
    "from sklearn.model_selection import train_test_split\n",
    "from sklearn.metrics import roc_auc_score,e accuracy_score\\"
   ]
  },
  {
   "cell_type": "code",
   "execution_count": null,
   "metadata": {
    "collapsed": true
   },
   "outputs": [],
   "source": [
    "gbm = model"
   ]
  },
  {
   "cell_type": "code",
   "execution_count": null,
   "metadata": {},
   "outputs": [],
   "source": [
    "game = UltimateBoard(True)\n",
    "while not game.game_over:\n",
    "    b, s, l = input(\"Next Move\\n\").split()\n",
    "    b = int(b)\n",
    "    s = int(s)\n",
    "\n",
    "    print(game.active_boards)\n",
    "    game.play(b,s,l)\n",
    "    print(game)\n",
    "    for b in game.active_boards:\n",
    "        for s in game.boards[b].remaining_squares:\n",
    "            game.play(b, s, 'X' if game.x_turn else 'O')\n",
    "#             g = game.get_history()[-1]\n",
    "#             g[b*9 + s] = 1 if l == 'O' else 2\n",
    "            print(b,s,gbm.predict_proba(np.array(game.get_history()[-1]).reshape(1,-1)))\n",
    "            game.undo_move()\n",
    "\n",
    "#     print(b,s,l)"
   ]
  },
  {
   "cell_type": "code",
   "execution_count": null,
   "metadata": {
    "collapsed": true
   },
   "outputs": [],
   "source": [
    "game_hist = [(4, 0, 1), (0, 5, 2), (5, 3, 1), \n",
    "             (3, 8, 2), (8, 6, 1), (6, 4, 2), \n",
    "             (4, 4, 1), (4, 6, 2), (6, 2, 1), \n",
    "             (2, 4, 2), (4, 8, 1), (8, 3, 2), \n",
    "             (3, 3, 1), (3, 1, 2), (1, 2, 1), \n",
    "             (2, 0, 2), (0, 6, 1), (6, 3, 2), \n",
    "             (3, 0, 1), (0, 1, 2), (1, 1, 1), \n",
    "             (1, 7, 2), (7, 8, 1)]"
   ]
  },
  {
   "cell_type": "code",
   "execution_count": null,
   "metadata": {
    "collapsed": true
   },
   "outputs": [],
   "source": [
    "(8, 0, 2)"
   ]
  },
  {
   "cell_type": "code",
   "execution_count": null,
   "metadata": {
    "collapsed": true
   },
   "outputs": [],
   "source": [
    "game = UltimateBoard(True)\n",
    "for gh in game_hist:\n",
    "    game.play(gh[0], gh[1], 'X' if gh[2] == 1 else 'O')"
   ]
  },
  {
   "cell_type": "code",
   "execution_count": null,
   "metadata": {
    "collapsed": true
   },
   "outputs": [],
   "source": [
    "# game = UltimateBoard(True)\n",
    "while not game.game_over:\n",
    "    b, s, l = input(\"Next Move\\n\").split()\n",
    "    b = int(b)\n",
    "    s = int(s)\n",
    "\n",
    "    print(game.active_boards)\n",
    "    game.play(b,s,l)\n",
    "    print(game)\n",
    "    for b in game.active_boards:\n",
    "        for s in game.boards[b].remaining_squares:\n",
    "            g = game.get_history()[-1]\n",
    "            g[b*9 + s] = 1 if l == 'O' else 2\n",
    "            print(b,s,gbm.predict_proba(np.array(g).reshape(1,-1)))\n",
    "\n",
    "#     print(b,s,l)"
   ]
  },
  {
   "cell_type": "code",
   "execution_count": null,
   "metadata": {
    "collapsed": true
   },
   "outputs": [],
   "source": []
  },
  {
   "cell_type": "code",
   "execution_count": null,
   "metadata": {
    "collapsed": true
   },
   "outputs": [],
   "source": [
    "train.head()"
   ]
  },
  {
   "cell_type": "code",
   "execution_count": null,
   "metadata": {
    "collapsed": true
   },
   "outputs": [],
   "source": [
    "pd.DataFrame([(x,y) for x,y in zip(list(range(90)), gbm.feature_importances_)]).sort_values(1, ascending=False)"
   ]
  },
  {
   "cell_type": "code",
   "execution_count": null,
   "metadata": {
    "collapsed": true
   },
   "outputs": [],
   "source": [
    "%debug"
   ]
  },
  {
   "cell_type": "code",
   "execution_count": null,
   "metadata": {
    "collapsed": true
   },
   "outputs": [],
   "source": [
    "import re\n",
    "\n",
    "re.findall(r'[0-9] [0-9] [OX]', s)"
   ]
  },
  {
   "cell_type": "code",
   "execution_count": null,
   "metadata": {
    "collapsed": true
   },
   "outputs": [],
   "source": [
    "game.play(1, 2, 'X')"
   ]
  },
  {
   "cell_type": "code",
   "execution_count": null,
   "metadata": {
    "collapsed": true
   },
   "outputs": [],
   "source": [
    "game.play(2,2,'O')"
   ]
  },
  {
   "cell_type": "code",
   "execution_count": null,
   "metadata": {
    "collapsed": true
   },
   "outputs": [],
   "source": [
    "for b in game.active_boards:\n",
    "    for s in game.boards[b].remaining_squares:\n",
    "        g = game.get_history()[-1]\n",
    "        g[b*9 + s] = 1\n",
    "        print(b,s,gbm.predict_proba(np.array(g).reshape(1,-1)))\n",
    "        "
   ]
  },
  {
   "cell_type": "code",
   "execution_count": null,
   "metadata": {
    "collapsed": true
   },
   "outputs": [],
   "source": [
    "gbm.predict(game.get_history()[-1][:-1])"
   ]
  },
  {
   "cell_type": "markdown",
   "metadata": {},
   "source": [
    "#### print(game)"
   ]
  },
  {
   "cell_type": "code",
   "execution_count": null,
   "metadata": {
    "collapsed": true
   },
   "outputs": [],
   "source": []
  },
  {
   "cell_type": "code",
   "execution_count": null,
   "metadata": {
    "collapsed": true
   },
   "outputs": [],
   "source": [
    "val['decile'] = pd.qcut(val['pred_x'], 10, labels=range(10))"
   ]
  },
  {
   "cell_type": "code",
   "execution_count": null,
   "metadata": {
    "collapsed": true
   },
   "outputs": [],
   "source": []
  }
 ],
 "metadata": {
  "kernelspec": {
   "display_name": "Python 3",
   "language": "python",
   "name": "python3"
  },
  "language_info": {
   "codemirror_mode": {
    "name": "ipython",
    "version": 3
   },
   "file_extension": ".py",
   "mimetype": "text/x-python",
   "name": "python",
   "nbconvert_exporter": "python",
   "pygments_lexer": "ipython3",
   "version": "3.6.3"
  }
 },
 "nbformat": 4,
 "nbformat_minor": 2
}
