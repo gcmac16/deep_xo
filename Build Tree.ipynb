{
 "cells": [
  {
   "cell_type": "code",
   "execution_count": 7,
   "metadata": {
    "collapsed": true
   },
   "outputs": [],
   "source": [
    "from tic_tac_toe import UltimateBoard, ClassicBoard\n",
    "import pandas as pd\n",
    "import numpy as np\n",
    "\n",
    "import seaborn as sns\n",
    "from matplotlib import pyplot as plt\n",
    "plt.style.use('ggplot')\n",
    "%matplotlib inline\n",
    "\n",
    "colors=['#547fc4']\n",
    "\n",
    "from multiprocessing import Pool\n",
    "from time import time\n",
    "import pickle\n",
    "import sys"
   ]
  },
  {
   "cell_type": "code",
   "execution_count": 2,
   "metadata": {
    "collapsed": true
   },
   "outputs": [],
   "source": [
    "def sim_game(i):\n",
    "    x_turn = i % 2 == 0\n",
    "    board = UltimateBoard(x_turn)\n",
    "    turns = 0\n",
    "    \n",
    "    np.random.seed()\n",
    "    \n",
    "    while not board.game_over:\n",
    "\n",
    "            lab = 'X' if x_turn else 'O'\n",
    "            brd = np.random.choice(list(board.active_boards), size=1)[0]\n",
    "            pos = np.random.choice(list(board.boards[brd].remaining_squares), size=1)[0]\n",
    "\n",
    "            board.play(brd, pos, lab)\n",
    "\n",
    "            x_turn = not x_turn\n",
    "            turns += 1\n",
    "    \n",
    "    return board.history, board.winner"
   ]
  },
  {
   "cell_type": "code",
   "execution_count": 3,
   "metadata": {
    "collapsed": true
   },
   "outputs": [],
   "source": [
    "int2label = {'X':1, 'O':2, 'Cat':-1}"
   ]
  },
  {
   "cell_type": "code",
   "execution_count": 4,
   "metadata": {
    "collapsed": true
   },
   "outputs": [],
   "source": [
    "def insert_tree(moves, tree, winner):\n",
    "    if len(moves) == 0: \n",
    "        return\n",
    "    \n",
    "    current_move = moves[0][:2]\n",
    "    if current_move in tree:\n",
    "        tree[current_move][winner] = tree[current_move].get(winner, 0) + 1\n",
    "        return insert_tree(moves[1:], tree[current_move]['tree'], winner)\n",
    "    else:\n",
    "        tree.setdefault(current_move, {winner:1, 'tree':{}})\n",
    "        return insert_tree(moves[1:], tree[current_move]['tree'], winner)"
   ]
  },
  {
   "cell_type": "code",
   "execution_count": 5,
   "metadata": {
    "collapsed": true
   },
   "outputs": [],
   "source": [
    "full_tree = {}"
   ]
  },
  {
   "cell_type": "code",
   "execution_count": null,
   "metadata": {},
   "outputs": [
    {
     "name": "stdout",
     "output_type": "stream",
     "text": [
      "2.28e-06\n",
      "Iter: 50 None\n",
      "2.28e-06\n",
      "Iter: 100 None\n",
      "2.28e-06\n",
      "Iter: 150 None\n"
     ]
    }
   ],
   "source": [
    "iter_num = 1\n",
    "\n",
    "while True:\n",
    "    if iter_num % 50 == 0:\n",
    "        print(f\"Iter: {iter_num}\", print(sys.getsizeof(full_tree)/1e9))\n",
    "        pickle.dump(full_tree ,open(\"updated_tree.pkl\",'wb'))\n",
    "        \n",
    "    n_games = 1000\n",
    "    p = Pool(4)\n",
    "    sim_results = p.map(sim_game, range(n_games))\n",
    "    \n",
    "    for hist, winner in sim_results:\n",
    "        winner_int = int2label[winner]\n",
    "\n",
    "        if winner == 'Cat':\n",
    "            win_label = 'cat'\n",
    "\n",
    "        else:\n",
    "            win_label = 'player_1' if winner_int == hist[0][2] else 'player_2'\n",
    "\n",
    "        insert_tree(hist, full_tree, win_label)\n",
    "        \n",
    "    iter_num += 1\n",
    "    "
   ]
  },
  {
   "cell_type": "code",
   "execution_count": 36,
   "metadata": {},
   "outputs": [
    {
     "data": {
      "text/plain": [
       "81"
      ]
     },
     "execution_count": 36,
     "metadata": {},
     "output_type": "execute_result"
    }
   ],
   "source": [
    "len(full_tree.keys())"
   ]
  },
  {
   "cell_type": "code",
   "execution_count": 17,
   "metadata": {
    "collapsed": true
   },
   "outputs": [],
   "source": [
    "\n",
    "\n",
    "for hist, winner in sim_results:\n",
    "    winner_int = int2label[winner]\n",
    "    \n",
    "    if winner == 'Cat':\n",
    "        win_label = 'cat'\n",
    "        \n",
    "    else:\n",
    "        win_label = 'player_1' if winner_int == hist[0][2] else 'player_2'\n",
    "        \n",
    "    insert_tree(hist, full_tree, win_label)"
   ]
  },
  {
   "cell_type": "code",
   "execution_count": 23,
   "metadata": {},
   "outputs": [
    {
     "data": {
      "text/plain": [
       "dict_keys(['player_1', 'tree', 'player_2', 'cat'])"
      ]
     },
     "execution_count": 23,
     "metadata": {},
     "output_type": "execute_result"
    }
   ],
   "source": [
    "full_tree[(0,1)].keys()"
   ]
  },
  {
   "cell_type": "code",
   "execution_count": 41,
   "metadata": {},
   "outputs": [
    {
     "data": {
      "text/plain": [
       "2280"
      ]
     },
     "execution_count": 41,
     "metadata": {},
     "output_type": "execute_result"
    }
   ],
   "source": [
    "sys.getsizeof(full_tree)"
   ]
  },
  {
   "cell_type": "code",
   "execution_count": 25,
   "metadata": {},
   "outputs": [
    {
     "data": {
      "text/plain": [
       "7"
      ]
     },
     "execution_count": 25,
     "metadata": {},
     "output_type": "execute_result"
    }
   ],
   "source": [
    "full_tree[(0,1)]['player_2']"
   ]
  },
  {
   "cell_type": "code",
   "execution_count": 42,
   "metadata": {},
   "outputs": [
    {
     "name": "stdout",
     "output_type": "stream",
     "text": [
      "(0, 0) -- 8 14 7 \n",
      "(0, 1) -- 13 12 5 \n",
      "(0, 2) -- 10 8 8 \n",
      "(0, 3) -- 11 6 6 \n",
      "(0, 4) -- 10 17 4 \n",
      "(0, 5) -- 13 9 7 \n",
      "(0, 6) -- 11 15 7 \n",
      "(0, 7) -- 8 12 6 \n",
      "(0, 8) -- 13 13 9 \n",
      "(1, 0) -- 15 10 11 \n",
      "(1, 1) -- 11 13 8 \n",
      "(1, 2) -- 19 13 5 \n",
      "(1, 3) -- 12 12 6 \n",
      "(1, 4) -- 13 10 7 \n",
      "(1, 5) -- 8 8 10 \n",
      "(1, 6) -- 6 17 10 \n",
      "(1, 7) -- 10 9 8 \n",
      "(1, 8) -- 13 8 10 \n",
      "(2, 0) -- 17 12 8 \n",
      "(2, 1) -- 14 14 4 \n",
      "(2, 2) -- 11 6 5 \n",
      "(2, 3) -- 10 9 7 \n",
      "(2, 4) -- 20 8 4 \n",
      "(2, 5) -- 14 9 2 \n",
      "(2, 6) -- 7 9 2 \n",
      "(2, 7) -- 11 13 10 \n",
      "(2, 8) -- 14 12 3 \n",
      "(3, 0) -- 8 12 6 \n",
      "(3, 1) -- 14 8 8 \n",
      "(3, 2) -- 12 14 6 \n",
      "(3, 3) -- 5 14 8 \n",
      "(3, 4) -- 18 14 5 \n",
      "(3, 5) -- 13 10 6 \n",
      "(3, 6) -- 8 13 3 \n",
      "(3, 7) -- 10 9 4 \n",
      "(3, 8) -- 11 15 8 \n",
      "(4, 0) -- 18 7 10 \n",
      "(4, 1) -- 16 9 5 \n",
      "(4, 2) -- 13 11 5 \n",
      "(4, 3) -- 15 6 10 \n",
      "(4, 4) -- 13 9 11 \n",
      "(4, 5) -- 17 8 1 \n",
      "(4, 6) -- 13 10 7 \n",
      "(4, 7) -- 17 11 5 \n",
      "(4, 8) -- 4 15 5 \n",
      "(5, 0) -- 9 15 10 \n",
      "(5, 1) -- 10 6 4 \n",
      "(5, 2) -- 7 9 4 \n",
      "(5, 3) -- 18 12 4 \n",
      "(5, 4) -- 8 4 11 \n",
      "(5, 5) -- 8 13 8 \n",
      "(5, 6) -- 12 12 3 \n",
      "(5, 7) -- 11 13 10 \n",
      "(5, 8) -- 18 10 6 \n",
      "(6, 0) -- 12 10 5 \n",
      "(6, 1) -- 14 13 8 \n",
      "(6, 2) -- 9 5 4 \n",
      "(6, 3) -- 17 14 8 \n",
      "(6, 4) -- 12 6 8 \n",
      "(6, 5) -- 13 12 3 \n",
      "(6, 6) -- 13 12 4 \n",
      "(6, 7) -- 18 11 9 \n",
      "(6, 8) -- 5 9 9 \n",
      "(7, 0) -- 13 11 10 \n",
      "(7, 1) -- 11 7 6 \n",
      "(7, 2) -- 11 13 6 \n",
      "(7, 3) -- 16 15 5 \n",
      "(7, 4) -- 10 12 3 \n",
      "(7, 5) -- 16 15 5 \n",
      "(7, 6) -- 14 8 10 \n",
      "(7, 7) -- 13 9 5 \n",
      "(7, 8) -- 14 17 9 \n",
      "(8, 0) -- 13 9 8 \n",
      "(8, 1) -- 9 15 7 \n",
      "(8, 2) -- 13 10 7 \n",
      "(8, 3) -- 9 10 12 \n",
      "(8, 4) -- 9 5 8 \n",
      "(8, 5) -- 16 13 9 \n",
      "(8, 6) -- 14 8 6 \n",
      "(8, 7) -- 14 8 6 \n",
      "(8, 8) -- 8 13 7 \n"
     ]
    }
   ],
   "source": [
    "for i in range(9):\n",
    "    for j in range(9):\n",
    "        print((i,j), end=' -- ')\n",
    "        for k in ['player_1', 'player_2', 'cat']:\n",
    "            print(full_tree[(i,j)].get(k, 0), end=' ')\n",
    "        print()"
   ]
  },
  {
   "cell_type": "code",
   "execution_count": null,
   "metadata": {
    "collapsed": true
   },
   "outputs": [],
   "source": [
    "game_tree = {}\n",
    "\n"
   ]
  },
  {
   "cell_type": "code",
   "execution_count": null,
   "metadata": {
    "collapsed": true
   },
   "outputs": [],
   "source": [
    "sim_results = [sim_game(i) for i in range(10000)]"
   ]
  },
  {
   "cell_type": "code",
   "execution_count": null,
   "metadata": {
    "collapsed": true
   },
   "outputs": [],
   "source": [
    "from sys import getsizeof"
   ]
  },
  {
   "cell_type": "code",
   "execution_count": null,
   "metadata": {
    "collapsed": true
   },
   "outputs": [],
   "source": [
    "getsizeof(sim_results) / 1000000"
   ]
  }
 ],
 "metadata": {
  "kernelspec": {
   "display_name": "xo_env",
   "language": "python",
   "name": "xo_env"
  },
  "language_info": {
   "codemirror_mode": {
    "name": "ipython",
    "version": 3
   },
   "file_extension": ".py",
   "mimetype": "text/x-python",
   "name": "python",
   "nbconvert_exporter": "python",
   "pygments_lexer": "ipython3",
   "version": "3.6.6"
  }
 },
 "nbformat": 4,
 "nbformat_minor": 2
}
