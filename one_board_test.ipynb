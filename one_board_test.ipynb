{
 "cells": [
  {
   "cell_type": "code",
   "execution_count": 4,
   "metadata": {},
   "outputs": [
    {
     "name": "stdout",
     "output_type": "stream",
     "text": [
      "Populating the interactive namespace from numpy and matplotlib\n"
     ]
    }
   ],
   "source": [
    "import pandas as pd\n",
    "import numpy as np\n",
    "\n",
    "from matplotlib import pyplot as plt\n",
    "plt.style.use('ggplot')\n",
    "%pylab inline\n",
    "import seaborn as sns\n",
    "\n",
    "from tic_tac_toe import *"
   ]
  },
  {
   "cell_type": "code",
   "execution_count": 63,
   "metadata": {
    "collapsed": true
   },
   "outputs": [],
   "source": [
    "class ClassicBoard():\n",
    "    \n",
    "    def __init__(self, board_id):\n",
    "        self.board = np.array(np.zeros((3,3)))\n",
    "        self.board_id = board_id\n",
    "        \n",
    "        self.won = False\n",
    "        self.winner = ''\n",
    "        self.game_over = False\n",
    "        \n",
    "        self.remaining_squares = set(range(9))\n",
    "        \n",
    "        self._lab2int = {'X':1, 'O':2}\n",
    "        self._int2lab = {1:'X', 2:'O', 0:'-'}\n",
    "        \n",
    "        self.history = []\n",
    "        \n",
    "    def play(self, pos, label):\n",
    "        if self.game_over:\n",
    "            raise ValueError(f\"The game on board {self.board_id} has ended\")\n",
    "            \n",
    "        # convert integer plays to tuples\n",
    "        if isinstance(pos, (int, np.int64)):\n",
    "            pos_tup = (math.floor(pos / 3), pos % 3)\n",
    "            pos_int = pos\n",
    "        # convert tuple plays to integers \n",
    "        if isinstance(pos, tuple):\n",
    "            pos_tup = pos\n",
    "            pos_int = 3*pos[0] + pos[1]\n",
    "        \n",
    "        # Raise errors for previously played squares\n",
    "        if self.board[pos_tup[0], pos_tup[1]] > 0:\n",
    "            raise ValueError(f\"Position {(pos_tup[0],pos_tup[1])} on board {self.board_id} has already been played\")\n",
    "        \n",
    "        # Check for correct labels\n",
    "        if label not in {'X','O'}:\n",
    "            raise ValueError(\"Label must be in {'X','O'}\")\n",
    "        \n",
    "        # make play, add to history\n",
    "        self.board[pos_tup[0], pos_tup[1]] = self._lab2int[label]\n",
    "        self.history.append((pos_tup, self._lab2int[label]))\n",
    "        \n",
    "        self._update_state(pos_int, label)\n",
    "        \n",
    "    def _update_state(self, pos, label):\n",
    "        '''\n",
    "        pos: \n",
    "        '''\n",
    "        self.remaining_squares.remove(pos)\n",
    "        \n",
    "        \n",
    "        # generate boolean board where squares == 1 if it matches\n",
    "        # the last play and 0 otherwise\n",
    "        label_board = self.board == self._lab2int[label]\n",
    "        \n",
    "        if (np.any(np.sum(label_board, axis=0) == 3) or\n",
    "            np.any(np.sum(label_board, axis=1) == 3) or\n",
    "            sum([label_board[i,i] for i in range(3)]) == 3 or\n",
    "            sum([label_board[i,2-i] for i in range(3)]) == 3):\n",
    "            # if a player has won, set appropriate flags\n",
    "            self.won = True\n",
    "            self.winner = label\n",
    "            self.game_over = True\n",
    "            \n",
    "        if len(self.remaining_squares) == 0:\n",
    "            self.game_over = True\n",
    "            \n",
    "    def undo_move(self):\n",
    "        if len(self.history) == 0:\n",
    "            return\n",
    "        \n",
    "        last_move, last_player = self.history[-1]\n",
    "        self.history = self.history[:-1]\n",
    "        self.game_over = False\n",
    "        self.board[(last_move[0], last_move[1])] = 0\n",
    "        self.remaining_squares.add(last_move[0]*3 + last_move[1])\n",
    "        \n",
    "    def is_winnable(self):\n",
    "        if self.won: return False\n",
    "        \n",
    "        triplets = [[0,1,2], [3,4,5], [6,7,8],\n",
    "                    [0,3,6], [1,4,7], [2,5,8],\n",
    "                    [0,4,8], [2,4,6]]\n",
    "        \n",
    "        flat_board = self.board.flatten()\n",
    "        \n",
    "        for t in triplets:\n",
    "            n_unq = len(np.unique(flat_board[t]))\n",
    "            # all empty squares\n",
    "            if n_unq == 1:\n",
    "                return True\n",
    "            # an X, an O and an empty - can't win this triple\n",
    "            elif n_unq == 3:\n",
    "                continue\n",
    "            # Two unique values has 3 cases:\n",
    "            # 1. Xs and Os - not winnable\n",
    "            # 2. Blanks and Xs - winnable\n",
    "            # 3. Blanks and Os - winnable\n",
    "            # Rule is therefore if any blank, then winnable\n",
    "            else:\n",
    "                if np.any(flat_board[t]==0):\n",
    "                    return True\n",
    "                else:\n",
    "                    continue\n",
    "                \n",
    "        return False\n",
    "                \n",
    "    \n",
    "    def __str__(self):\n",
    "        lines = []\n",
    "        for i in range(3):\n",
    "            lines.append(' '.join([self._int2lab[num] for num in self.board[i,:]]))\n",
    "            \n",
    "        return '\\n'.join(lines)"
   ]
  },
  {
   "cell_type": "code",
   "execution_count": 64,
   "metadata": {},
   "outputs": [],
   "source": [
    "board = ClassicBoard(0)"
   ]
  },
  {
   "cell_type": "code",
   "execution_count": 68,
   "metadata": {},
   "outputs": [],
   "source": [
    "board = ClassicBoard(0)\n",
    "board.play(0, 'O')\n",
    "board.play(2, 'X')\n",
    "board.play(3, 'X')\n",
    "board.play(4, 'O')\n",
    "board.play(5, 'O')\n",
    "board.play(6, 'O')\n",
    "board.play(8, 'X')"
   ]
  },
  {
   "cell_type": "code",
   "execution_count": 71,
   "metadata": {
    "collapsed": true
   },
   "outputs": [],
   "source": [
    "board.play(7,'X')"
   ]
  },
  {
   "cell_type": "code",
   "execution_count": 72,
   "metadata": {},
   "outputs": [
    {
     "data": {
      "text/plain": [
       "False"
      ]
     },
     "execution_count": 72,
     "metadata": {},
     "output_type": "execute_result"
    }
   ],
   "source": [
    "board.is_winnable()"
   ]
  },
  {
   "cell_type": "code",
   "execution_count": 73,
   "metadata": {},
   "outputs": [
    {
     "name": "stdout",
     "output_type": "stream",
     "text": [
      "O - X\n",
      "X O O\n",
      "O X X\n"
     ]
    }
   ],
   "source": [
    "print(board)"
   ]
  },
  {
   "cell_type": "code",
   "execution_count": 53,
   "metadata": {},
   "outputs": [
    {
     "name": "stdout",
     "output_type": "stream",
     "text": [
      "[ 1.  0.  0.] 2\n",
      "[ 0.  0.  0.] 1\n",
      "[ 0.  0.  0.] 1\n",
      "[ 1.  0.  0.] 2\n",
      "[ 0.  0.  0.] 1\n",
      "[ 0.  0.  0.] 1\n",
      "[ 1.  0.  0.] 2\n",
      "[ 0.  0.  0.] 1\n",
      "None\n"
     ]
    }
   ],
   "source": [
    "print(board.is_winnable())"
   ]
  },
  {
   "cell_type": "code",
   "execution_count": 9,
   "metadata": {
    "collapsed": true
   },
   "outputs": [],
   "source": [
    "board.play((1,1),'O')"
   ]
  },
  {
   "cell_type": "code",
   "execution_count": 10,
   "metadata": {},
   "outputs": [
    {
     "name": "stdout",
     "output_type": "stream",
     "text": [
      "X - -\n",
      "- O -\n",
      "- - -\n"
     ]
    }
   ],
   "source": [
    "print(board)"
   ]
  },
  {
   "cell_type": "code",
   "execution_count": 11,
   "metadata": {
    "collapsed": true
   },
   "outputs": [],
   "source": [
    "board.play((2,2), 'X')"
   ]
  },
  {
   "cell_type": "code",
   "execution_count": 12,
   "metadata": {},
   "outputs": [
    {
     "name": "stdout",
     "output_type": "stream",
     "text": [
      "X - -\n",
      "- O -\n",
      "- - X\n"
     ]
    }
   ],
   "source": [
    "print(board)"
   ]
  },
  {
   "cell_type": "code",
   "execution_count": 13,
   "metadata": {},
   "outputs": [
    {
     "data": {
      "text/plain": [
       "[((0, 0), 1), ((1, 1), 2), ((2, 2), 1)]"
      ]
     },
     "execution_count": 13,
     "metadata": {},
     "output_type": "execute_result"
    }
   ],
   "source": [
    "board.history"
   ]
  },
  {
   "cell_type": "code",
   "execution_count": 14,
   "metadata": {
    "collapsed": true
   },
   "outputs": [],
   "source": [
    "board.undo_move()"
   ]
  },
  {
   "cell_type": "code",
   "execution_count": 83,
   "metadata": {},
   "outputs": [
    {
     "data": {
      "text/plain": [
       "[((0, 0), 1), ((1, 1), 2)]"
      ]
     },
     "execution_count": 83,
     "metadata": {},
     "output_type": "execute_result"
    }
   ],
   "source": [
    "board.history"
   ]
  },
  {
   "cell_type": "code",
   "execution_count": 15,
   "metadata": {},
   "outputs": [
    {
     "name": "stdout",
     "output_type": "stream",
     "text": [
      "X - -\n",
      "- O -\n",
      "- - -\n"
     ]
    }
   ],
   "source": [
    "print(board)"
   ]
  },
  {
   "cell_type": "code",
   "execution_count": 16,
   "metadata": {
    "collapsed": true
   },
   "outputs": [],
   "source": [
    "board.play((2,0),'X')"
   ]
  },
  {
   "cell_type": "code",
   "execution_count": null,
   "metadata": {
    "collapsed": true
   },
   "outputs": [],
   "source": []
  },
  {
   "cell_type": "code",
   "execution_count": 17,
   "metadata": {},
   "outputs": [
    {
     "name": "stdout",
     "output_type": "stream",
     "text": [
      "X - -\n",
      "- O -\n",
      "X - -\n"
     ]
    }
   ],
   "source": [
    "print(board)"
   ]
  },
  {
   "cell_type": "code",
   "execution_count": 18,
   "metadata": {
    "collapsed": true
   },
   "outputs": [],
   "source": [
    "board.play(3, 'X')"
   ]
  },
  {
   "cell_type": "code",
   "execution_count": 19,
   "metadata": {
    "scrolled": true
   },
   "outputs": [
    {
     "name": "stdout",
     "output_type": "stream",
     "text": [
      "X - -\n",
      "X O -\n",
      "X - -\n"
     ]
    }
   ],
   "source": [
    "print(board)"
   ]
  },
  {
   "cell_type": "code",
   "execution_count": 20,
   "metadata": {},
   "outputs": [
    {
     "data": {
      "text/plain": [
       "True"
      ]
     },
     "execution_count": 20,
     "metadata": {},
     "output_type": "execute_result"
    }
   ],
   "source": [
    "board.game_over"
   ]
  },
  {
   "cell_type": "code",
   "execution_count": 21,
   "metadata": {
    "collapsed": true
   },
   "outputs": [],
   "source": [
    "board.undo_move()"
   ]
  },
  {
   "cell_type": "code",
   "execution_count": 22,
   "metadata": {},
   "outputs": [],
   "source": [
    "board.play((0,2),'X')"
   ]
  },
  {
   "cell_type": "code",
   "execution_count": 23,
   "metadata": {},
   "outputs": [
    {
     "name": "stdout",
     "output_type": "stream",
     "text": [
      "X - X\n",
      "- O -\n",
      "X - -\n"
     ]
    }
   ],
   "source": [
    "print(board)"
   ]
  },
  {
   "cell_type": "code",
   "execution_count": 24,
   "metadata": {
    "collapsed": true
   },
   "outputs": [],
   "source": [
    "board.play((0,1),'O')"
   ]
  },
  {
   "cell_type": "code",
   "execution_count": 25,
   "metadata": {},
   "outputs": [
    {
     "name": "stdout",
     "output_type": "stream",
     "text": [
      "X O X\n",
      "- O -\n",
      "X - -\n"
     ]
    }
   ],
   "source": [
    "print(board)"
   ]
  },
  {
   "cell_type": "code",
   "execution_count": 26,
   "metadata": {
    "collapsed": true
   },
   "outputs": [],
   "source": [
    "board.play(,'X')"
   ]
  },
  {
   "cell_type": "code",
   "execution_count": 27,
   "metadata": {},
   "outputs": [
    {
     "name": "stdout",
     "output_type": "stream",
     "text": [
      "X O X\n",
      "- O X\n",
      "X - -\n"
     ]
    }
   ],
   "source": [
    "print(board)"
   ]
  },
  {
   "cell_type": "code",
   "execution_count": 28,
   "metadata": {
    "collapsed": true
   },
   "outputs": [],
   "source": [
    "board.play(8, 'X')"
   ]
  },
  {
   "cell_type": "code",
   "execution_count": 29,
   "metadata": {},
   "outputs": [
    {
     "name": "stdout",
     "output_type": "stream",
     "text": [
      "X O X\n",
      "- O X\n",
      "X - X\n"
     ]
    }
   ],
   "source": [
    "print(board)"
   ]
  },
  {
   "cell_type": "code",
   "execution_count": 30,
   "metadata": {},
   "outputs": [
    {
     "ename": "ValueError",
     "evalue": "The game on board 0 has ended",
     "output_type": "error",
     "traceback": [
      "\u001b[0;31m---------------------------------------------------------------------------\u001b[0m",
      "\u001b[0;31mValueError\u001b[0m                                Traceback (most recent call last)",
      "\u001b[0;32m<ipython-input-30-d6841c4d7db3>\u001b[0m in \u001b[0;36m<module>\u001b[0;34m()\u001b[0m\n\u001b[0;32m----> 1\u001b[0;31m \u001b[0mboard\u001b[0m\u001b[0;34m.\u001b[0m\u001b[0mplay\u001b[0m\u001b[0;34m(\u001b[0m\u001b[0;36m7\u001b[0m\u001b[0;34m,\u001b[0m\u001b[0;34m'O'\u001b[0m\u001b[0;34m)\u001b[0m\u001b[0;34m\u001b[0m\u001b[0m\n\u001b[0m",
      "\u001b[0;32m<ipython-input-5-f93623edea34>\u001b[0m in \u001b[0;36mplay\u001b[0;34m(self, pos, label)\u001b[0m\n\u001b[1;32m     18\u001b[0m     \u001b[0;32mdef\u001b[0m \u001b[0mplay\u001b[0m\u001b[0;34m(\u001b[0m\u001b[0mself\u001b[0m\u001b[0;34m,\u001b[0m \u001b[0mpos\u001b[0m\u001b[0;34m,\u001b[0m \u001b[0mlabel\u001b[0m\u001b[0;34m)\u001b[0m\u001b[0;34m:\u001b[0m\u001b[0;34m\u001b[0m\u001b[0m\n\u001b[1;32m     19\u001b[0m         \u001b[0;32mif\u001b[0m \u001b[0mself\u001b[0m\u001b[0;34m.\u001b[0m\u001b[0mgame_over\u001b[0m\u001b[0;34m:\u001b[0m\u001b[0;34m\u001b[0m\u001b[0m\n\u001b[0;32m---> 20\u001b[0;31m             \u001b[0;32mraise\u001b[0m \u001b[0mValueError\u001b[0m\u001b[0;34m(\u001b[0m\u001b[0;34mf\"The game on board {self.board_id} has ended\"\u001b[0m\u001b[0;34m)\u001b[0m\u001b[0;34m\u001b[0m\u001b[0m\n\u001b[0m\u001b[1;32m     21\u001b[0m \u001b[0;34m\u001b[0m\u001b[0m\n\u001b[1;32m     22\u001b[0m         \u001b[0;32mif\u001b[0m \u001b[0misinstance\u001b[0m\u001b[0;34m(\u001b[0m\u001b[0mpos\u001b[0m\u001b[0;34m,\u001b[0m \u001b[0;34m(\u001b[0m\u001b[0mint\u001b[0m\u001b[0;34m,\u001b[0m \u001b[0mnp\u001b[0m\u001b[0;34m.\u001b[0m\u001b[0mint64\u001b[0m\u001b[0;34m)\u001b[0m\u001b[0;34m)\u001b[0m\u001b[0;34m:\u001b[0m\u001b[0;34m\u001b[0m\u001b[0m\n",
      "\u001b[0;31mValueError\u001b[0m: The game on board 0 has ended"
     ]
    }
   ],
   "source": [
    "board.play(7,'O')"
   ]
  },
  {
   "cell_type": "code",
   "execution_count": null,
   "metadata": {
    "collapsed": true
   },
   "outputs": [],
   "source": []
  }
 ],
 "metadata": {
  "kernelspec": {
   "display_name": "Python 3",
   "language": "python",
   "name": "python3"
  },
  "language_info": {
   "codemirror_mode": {
    "name": "ipython",
    "version": 3
   },
   "file_extension": ".py",
   "mimetype": "text/x-python",
   "name": "python",
   "nbconvert_exporter": "python",
   "pygments_lexer": "ipython3",
   "version": "3.6.3"
  }
 },
 "nbformat": 4,
 "nbformat_minor": 2
}
